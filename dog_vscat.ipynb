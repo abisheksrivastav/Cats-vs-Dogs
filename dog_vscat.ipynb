{
 "cells": [
  {
   "cell_type": "code",
   "execution_count": 1,
   "metadata": {},
   "outputs": [],
   "source": [
    "import os ,shutil,pathlib"
   ]
  },
  {
   "cell_type": "code",
   "execution_count": 30,
   "metadata": {},
   "outputs": [
    {
     "name": "stdout",
     "output_type": "stream",
     "text": [
      "Collecting opencv-python\n",
      "  Downloading opencv_python-4.5.5.64-cp36-abi3-manylinux_2_17_x86_64.manylinux2014_x86_64.whl (60.5 MB)\n",
      "\u001b[K     |████████████████████████████████| 60.5 MB 87 kB/s s eta 0:00:01    |█████████████████████████████▎  | 55.4 MB 27.5 MB/s eta 0:00:01\n",
      "\u001b[?25hRequirement already satisfied: numpy>=1.14.5; python_version >= \"3.7\" in /anaconda/envs/azureml_py38_PT_TF/lib/python3.8/site-packages (from opencv-python) (1.21.3)\n",
      "Installing collected packages: opencv-python\n",
      "Successfully installed opencv-python-4.5.5.64\n",
      "Note: you may need to restart the kernel to use updated packages.\n"
     ]
    }
   ],
   "source": [
    "pip install opencv-python"
   ]
  },
  {
   "cell_type": "code",
   "execution_count": 31,
   "metadata": {},
   "outputs": [],
   "source": [
    "import numpy as np\n",
    "import pandas as pd \n",
    "import matplotlib.pyplot as plt\n",
    "import seaborn as sns\n",
    "import glob\n",
    "import random\n",
    "import os\n",
    "import cv2\n",
    "#tesor fow & keras\n",
    "import tensorflow as tf\n",
    "from tensorflow import keras\n",
    "from keras.regularizers import l2     \n",
    "from sklearn.utils import shuffle\n",
    "from sklearn.model_selection import train_test_split\n",
    "from tensorflow.keras.utils import to_categorical\n",
    "from keras.models import load_model\n",
    "from tensorflow.keras import Sequential\n",
    "from tensorflow.keras.layers import Flatten, Dense,BatchNormalization,Dropout,Input\n",
    "from keras.models import Sequential, Model\n",
    "from keras.layers import Conv2D,GlobalMaxPooling2D\n",
    "from tensorflow.keras.applications import  Xception,VGG16,InceptionResNetV2\n",
    "from tensorflow.keras.preprocessing.image import ImageDataGenerator\n",
    "#cnn\n",
    "from tensorflow.keras import datasets, layers, models\n",
    "\n",
    "from keras.layers import Input, Conv2D, MaxPooling2D, UpSampling2D, concatenate, Conv2DTranspose, BatchNormalization, Dropout, Lambda\n",
    "from keras.engine.base_layer import Layer\n",
    "from sklearn.metrics import classification_report,confusion_matrix\n",
    "from sklearn.metrics import accuracy_score\n",
    "from sklearn.metrics import f1_score\n",
    "from sklearn.metrics import recall_score\n",
    "from sklearn.metrics import precision_score"
   ]
  },
  {
   "cell_type": "code",
   "execution_count": 2,
   "metadata": {},
   "outputs": [],
   "source": [
    "original_dir = pathlib.Path(\"train\")\n",
    "new_base_dir = pathlib.Path(\"cats_and_dogs_small\")\n"
   ]
  },
  {
   "cell_type": "code",
   "execution_count": 3,
   "metadata": {},
   "outputs": [],
   "source": [
    "def make_subset(subset_name,start_index,end_index):\n",
    "    for category in (\"cat\", \"dog\"):\n",
    "        dir = new_base_dir / subset_name / category\n",
    "        os.makedirs(dir)\n",
    "        fnames = [f\"{category}.{i}.jpg\"\n",
    "        for i in range(start_index, end_index)]\n",
    "        for fname in fnames:\n",
    "         shutil.copyfile(src=original_dir / fname,\n",
    "          dst=dir / fname)\n",
    "  \n",
    "\n"
   ]
  },
  {
   "cell_type": "code",
   "execution_count": 4,
   "metadata": {},
   "outputs": [
    {
     "ename": "FileExistsError",
     "evalue": "[Errno 17] File exists: 'cats_and_dogs_small/train/cat'",
     "output_type": "error",
     "traceback": [
      "\u001b[0;31m---------------------------------------------------------------------------\u001b[0m",
      "\u001b[0;31mFileExistsError\u001b[0m                           Traceback (most recent call last)",
      "\u001b[0;32m<ipython-input-4-23c0fa73ee39>\u001b[0m in \u001b[0;36m<module>\u001b[0;34m\u001b[0m\n\u001b[0;32m----> 1\u001b[0;31m \u001b[0mmake_subset\u001b[0m\u001b[0;34m(\u001b[0m\u001b[0;34m\"train\"\u001b[0m\u001b[0;34m,\u001b[0m \u001b[0mstart_index\u001b[0m\u001b[0;34m=\u001b[0m\u001b[0;36m0\u001b[0m\u001b[0;34m,\u001b[0m \u001b[0mend_index\u001b[0m\u001b[0;34m=\u001b[0m\u001b[0;36m1000\u001b[0m\u001b[0;34m)\u001b[0m\u001b[0;34m\u001b[0m\u001b[0;34m\u001b[0m\u001b[0m\n\u001b[0m\u001b[1;32m      2\u001b[0m \u001b[0mmake_subset\u001b[0m\u001b[0;34m(\u001b[0m\u001b[0;34m\"validation\"\u001b[0m\u001b[0;34m,\u001b[0m \u001b[0mstart_index\u001b[0m\u001b[0;34m=\u001b[0m\u001b[0;36m1000\u001b[0m\u001b[0;34m,\u001b[0m \u001b[0mend_index\u001b[0m\u001b[0;34m=\u001b[0m\u001b[0;36m1500\u001b[0m\u001b[0;34m)\u001b[0m\u001b[0;34m\u001b[0m\u001b[0;34m\u001b[0m\u001b[0m\n\u001b[1;32m      3\u001b[0m \u001b[0mmake_subset\u001b[0m\u001b[0;34m(\u001b[0m\u001b[0;34m\"test\"\u001b[0m\u001b[0;34m,\u001b[0m \u001b[0mstart_index\u001b[0m\u001b[0;34m=\u001b[0m\u001b[0;36m1500\u001b[0m\u001b[0;34m,\u001b[0m \u001b[0mend_index\u001b[0m\u001b[0;34m=\u001b[0m\u001b[0;36m2500\u001b[0m\u001b[0;34m)\u001b[0m\u001b[0;34m\u001b[0m\u001b[0;34m\u001b[0m\u001b[0m\n",
      "\u001b[0;32m<ipython-input-3-fd32867d95d4>\u001b[0m in \u001b[0;36mmake_subset\u001b[0;34m(subset_name, start_index, end_index)\u001b[0m\n\u001b[1;32m      2\u001b[0m     \u001b[0;32mfor\u001b[0m \u001b[0mcategory\u001b[0m \u001b[0;32min\u001b[0m \u001b[0;34m(\u001b[0m\u001b[0;34m\"cat\"\u001b[0m\u001b[0;34m,\u001b[0m \u001b[0;34m\"dog\"\u001b[0m\u001b[0;34m)\u001b[0m\u001b[0;34m:\u001b[0m\u001b[0;34m\u001b[0m\u001b[0;34m\u001b[0m\u001b[0m\n\u001b[1;32m      3\u001b[0m         \u001b[0mdir\u001b[0m \u001b[0;34m=\u001b[0m \u001b[0mnew_base_dir\u001b[0m \u001b[0;34m/\u001b[0m \u001b[0msubset_name\u001b[0m \u001b[0;34m/\u001b[0m \u001b[0mcategory\u001b[0m\u001b[0;34m\u001b[0m\u001b[0;34m\u001b[0m\u001b[0m\n\u001b[0;32m----> 4\u001b[0;31m         \u001b[0mos\u001b[0m\u001b[0;34m.\u001b[0m\u001b[0mmakedirs\u001b[0m\u001b[0;34m(\u001b[0m\u001b[0mdir\u001b[0m\u001b[0;34m)\u001b[0m\u001b[0;34m\u001b[0m\u001b[0;34m\u001b[0m\u001b[0m\n\u001b[0m\u001b[1;32m      5\u001b[0m         fnames = [f\"{category}.{i}.jpg\"\n\u001b[1;32m      6\u001b[0m         for i in range(start_index, end_index)]\n",
      "\u001b[0;32m/anaconda/envs/azureml_py38_PT_TF/lib/python3.8/os.py\u001b[0m in \u001b[0;36mmakedirs\u001b[0;34m(name, mode, exist_ok)\u001b[0m\n\u001b[1;32m    219\u001b[0m             \u001b[0;32mreturn\u001b[0m\u001b[0;34m\u001b[0m\u001b[0;34m\u001b[0m\u001b[0m\n\u001b[1;32m    220\u001b[0m     \u001b[0;32mtry\u001b[0m\u001b[0;34m:\u001b[0m\u001b[0;34m\u001b[0m\u001b[0;34m\u001b[0m\u001b[0m\n\u001b[0;32m--> 221\u001b[0;31m         \u001b[0mmkdir\u001b[0m\u001b[0;34m(\u001b[0m\u001b[0mname\u001b[0m\u001b[0;34m,\u001b[0m \u001b[0mmode\u001b[0m\u001b[0;34m)\u001b[0m\u001b[0;34m\u001b[0m\u001b[0;34m\u001b[0m\u001b[0m\n\u001b[0m\u001b[1;32m    222\u001b[0m     \u001b[0;32mexcept\u001b[0m \u001b[0mOSError\u001b[0m\u001b[0;34m:\u001b[0m\u001b[0;34m\u001b[0m\u001b[0;34m\u001b[0m\u001b[0m\n\u001b[1;32m    223\u001b[0m         \u001b[0;31m# Cannot rely on checking for EEXIST, since the operating system\u001b[0m\u001b[0;34m\u001b[0m\u001b[0;34m\u001b[0m\u001b[0;34m\u001b[0m\u001b[0m\n",
      "\u001b[0;31mFileExistsError\u001b[0m: [Errno 17] File exists: 'cats_and_dogs_small/train/cat'"
     ]
    }
   ],
   "source": [
    "make_subset(\"train\", start_index=0, end_index=1000)\n",
    "make_subset(\"validation\", start_index=1000, end_index=1500)\n",
    "make_subset(\"test\", start_index=1500, end_index=2500)"
   ]
  },
  {
   "cell_type": "code",
   "execution_count": 5,
   "metadata": {},
   "outputs": [],
   "source": [
    "import pandas as pd\n"
   ]
  },
  {
   "cell_type": "code",
   "execution_count": 11,
   "metadata": {},
   "outputs": [],
   "source": [
    "from tensorflow import keras \n",
    "from tensorflow.keras import layers"
   ]
  },
  {
   "cell_type": "code",
   "execution_count": 7,
   "metadata": {},
   "outputs": [],
   "source": [
    "inputs = keras.Input(shape=(180, 180, 3))\n",
    "data_augmentation = keras.Sequential(\n",
    "[\n",
    "layers.RandomFlip(\"horizontal\"),\n",
    "layers.RandomRotation(0.1),\n",
    "layers.RandomZoom(0.2),\n",
    "]\n",
    ")\n",
    "x = data_augmentation(inputs)\n",
    "x = layers.Rescaling(1./255)(inputs)\n",
    "x = layers.Conv2D(filters= 32,kernel_size= 3, activation=\"relu\")(x)\n",
    "x = layers.MaxPooling2D(pool_size= 2)(x)\n",
    "x = layers.Conv2D(filters= 64,kernel_size= 3, activation=\"relu\")(x)\n",
    "x = layers.MaxPooling2D(pool_size= 2)(x)\n",
    "x = layers.Conv2D(filters= 128,kernel_size= 3, activation=\"relu\")(x)\n",
    "x = layers.MaxPooling2D(pool_size= 2)(x)\n",
    "x = layers.Conv2D(filters= 256,kernel_size= 3, activation=\"relu\")(x)\n",
    "x = layers.MaxPooling2D(pool_size= 2)(x)\n",
    "x = layers.Conv2D(filters= 256,kernel_size= 3, activation=\"relu\")(x)\n",
    "x = layers.Flatten()(x)\n",
    "x = layers.Dropout(0.5)(x)\n",
    "outputs = layers.Dense(1, activation=\"sigmoid\")(x)\n",
    "model = keras.Model(inputs=inputs, outputs=outputs)\n",
    "\n",
    "\n"
   ]
  },
  {
   "cell_type": "code",
   "execution_count": 7,
   "metadata": {},
   "outputs": [],
   "source": [
    "model.compile(loss=\"binary_crossentropy\",optimizer=\"rmsprop\",metrics=[\"accuracy\"])"
   ]
  },
  {
   "cell_type": "code",
   "execution_count": 12,
   "metadata": {},
   "outputs": [
    {
     "name": "stdout",
     "output_type": "stream",
     "text": [
      "Found 2000 files belonging to 2 classes.\n",
      "Found 1000 files belonging to 2 classes.\n",
      "Found 2000 files belonging to 2 classes.\n"
     ]
    }
   ],
   "source": [
    "from tensorflow.keras.utils import image_dataset_from_directory\n",
    "train_dataset = image_dataset_from_directory(new_base_dir / \"train\",image_size=(180,180),batch_size=32)\n",
    "validation_dataset = image_dataset_from_directory(new_base_dir / \"validation\",image_size=(180,180),batch_size=32)\n",
    "test_dataset = image_dataset_from_directory(new_base_dir / \"test\",image_size=(180,180),batch_size=32)\n"
   ]
  },
  {
   "cell_type": "code",
   "execution_count": 9,
   "metadata": {},
   "outputs": [
    {
     "name": "stdout",
     "output_type": "stream",
     "text": [
      "(32, 180, 180, 3) (32,)\n"
     ]
    }
   ],
   "source": [
    "for data_batch, labels_batch in train_dataset:\n",
    "    print(data_batch.shape, labels_batch.shape)\n",
    "    break"
   ]
  },
  {
   "cell_type": "code",
   "execution_count": 10,
   "metadata": {},
   "outputs": [],
   "source": [
    "callbacks = [\n",
    "keras.callbacks.ModelCheckpoint(\n",
    "filepath=\"convnet_from_scratch.keras\",\n",
    "save_best_only=True,\n",
    "monitor=\"val_loss\")]"
   ]
  },
  {
   "cell_type": "code",
   "execution_count": 11,
   "metadata": {},
   "outputs": [
    {
     "name": "stdout",
     "output_type": "stream",
     "text": [
      "Epoch 1/100\n",
      "63/63 [==============================] - 9s 107ms/step - loss: 0.7153 - accuracy: 0.5020 - val_loss: 0.6916 - val_accuracy: 0.5260\n",
      "Epoch 2/100\n",
      "63/63 [==============================] - 6s 97ms/step - loss: 0.6888 - accuracy: 0.5695 - val_loss: 0.6656 - val_accuracy: 0.5960\n",
      "Epoch 3/100\n",
      "63/63 [==============================] - 6s 97ms/step - loss: 0.6605 - accuracy: 0.6090 - val_loss: 0.6294 - val_accuracy: 0.6270\n",
      "Epoch 4/100\n",
      "63/63 [==============================] - 6s 97ms/step - loss: 0.6185 - accuracy: 0.6760 - val_loss: 0.6225 - val_accuracy: 0.6360\n",
      "Epoch 5/100\n",
      "63/63 [==============================] - 6s 96ms/step - loss: 0.5803 - accuracy: 0.6845 - val_loss: 0.5883 - val_accuracy: 0.6990\n",
      "Epoch 6/100\n",
      "63/63 [==============================] - 6s 97ms/step - loss: 0.5718 - accuracy: 0.7180 - val_loss: 0.5870 - val_accuracy: 0.6910\n",
      "Epoch 7/100\n",
      "63/63 [==============================] - 6s 96ms/step - loss: 0.5106 - accuracy: 0.7570 - val_loss: 0.5896 - val_accuracy: 0.6700\n",
      "Epoch 8/100\n",
      "63/63 [==============================] - 6s 97ms/step - loss: 0.4877 - accuracy: 0.7700 - val_loss: 0.5846 - val_accuracy: 0.7210\n",
      "Epoch 9/100\n",
      "63/63 [==============================] - 6s 98ms/step - loss: 0.4368 - accuracy: 0.7920 - val_loss: 0.5305 - val_accuracy: 0.7450\n",
      "Epoch 10/100\n",
      "63/63 [==============================] - 6s 96ms/step - loss: 0.3871 - accuracy: 0.8355 - val_loss: 0.6094 - val_accuracy: 0.7510\n",
      "Epoch 11/100\n",
      "63/63 [==============================] - 6s 97ms/step - loss: 0.3519 - accuracy: 0.8505 - val_loss: 0.8428 - val_accuracy: 0.6790\n",
      "Epoch 12/100\n",
      "63/63 [==============================] - 6s 97ms/step - loss: 0.3159 - accuracy: 0.8645 - val_loss: 0.7507 - val_accuracy: 0.7090\n",
      "Epoch 13/100\n",
      "63/63 [==============================] - 6s 97ms/step - loss: 0.2663 - accuracy: 0.8885 - val_loss: 0.7410 - val_accuracy: 0.6950\n",
      "Epoch 14/100\n",
      "63/63 [==============================] - 6s 96ms/step - loss: 0.2297 - accuracy: 0.9040 - val_loss: 0.7693 - val_accuracy: 0.7320\n",
      "Epoch 15/100\n",
      "63/63 [==============================] - 6s 96ms/step - loss: 0.1900 - accuracy: 0.9240 - val_loss: 0.9168 - val_accuracy: 0.7520\n",
      "Epoch 16/100\n",
      "63/63 [==============================] - 6s 97ms/step - loss: 0.1907 - accuracy: 0.9320 - val_loss: 0.9516 - val_accuracy: 0.7240\n",
      "Epoch 17/100\n",
      "63/63 [==============================] - 6s 97ms/step - loss: 0.1315 - accuracy: 0.9495 - val_loss: 1.5318 - val_accuracy: 0.7180\n",
      "Epoch 18/100\n",
      "63/63 [==============================] - 6s 97ms/step - loss: 0.1322 - accuracy: 0.9495 - val_loss: 0.9617 - val_accuracy: 0.7480\n",
      "Epoch 19/100\n",
      "63/63 [==============================] - 6s 97ms/step - loss: 0.1125 - accuracy: 0.9540 - val_loss: 1.0008 - val_accuracy: 0.7340\n",
      "Epoch 20/100\n",
      "63/63 [==============================] - 6s 97ms/step - loss: 0.1004 - accuracy: 0.9670 - val_loss: 1.1016 - val_accuracy: 0.7600\n",
      "Epoch 21/100\n",
      "63/63 [==============================] - 6s 97ms/step - loss: 0.1012 - accuracy: 0.9620 - val_loss: 1.0758 - val_accuracy: 0.7540\n",
      "Epoch 22/100\n",
      "63/63 [==============================] - 6s 97ms/step - loss: 0.1053 - accuracy: 0.9660 - val_loss: 1.1539 - val_accuracy: 0.7500\n",
      "Epoch 23/100\n",
      "63/63 [==============================] - 6s 97ms/step - loss: 0.0785 - accuracy: 0.9720 - val_loss: 1.1790 - val_accuracy: 0.7360\n",
      "Epoch 24/100\n",
      "63/63 [==============================] - 6s 98ms/step - loss: 0.0802 - accuracy: 0.9730 - val_loss: 1.3230 - val_accuracy: 0.7530\n",
      "Epoch 25/100\n",
      "63/63 [==============================] - 6s 98ms/step - loss: 0.0945 - accuracy: 0.9725 - val_loss: 1.1075 - val_accuracy: 0.7650\n",
      "Epoch 26/100\n",
      "63/63 [==============================] - 6s 97ms/step - loss: 0.0655 - accuracy: 0.9725 - val_loss: 1.4754 - val_accuracy: 0.7450\n",
      "Epoch 27/100\n",
      "63/63 [==============================] - 6s 97ms/step - loss: 0.0589 - accuracy: 0.9800 - val_loss: 1.2002 - val_accuracy: 0.7510\n",
      "Epoch 28/100\n",
      "63/63 [==============================] - 6s 97ms/step - loss: 0.0656 - accuracy: 0.9795 - val_loss: 1.3241 - val_accuracy: 0.7690\n",
      "Epoch 29/100\n",
      "63/63 [==============================] - 6s 96ms/step - loss: 0.0609 - accuracy: 0.9820 - val_loss: 1.5154 - val_accuracy: 0.7570\n",
      "Epoch 30/100\n",
      "63/63 [==============================] - 6s 97ms/step - loss: 0.0734 - accuracy: 0.9760 - val_loss: 1.3081 - val_accuracy: 0.7640\n",
      "Epoch 31/100\n",
      "63/63 [==============================] - 6s 97ms/step - loss: 0.0745 - accuracy: 0.9770 - val_loss: 1.3983 - val_accuracy: 0.7550\n",
      "Epoch 32/100\n",
      "63/63 [==============================] - 6s 97ms/step - loss: 0.0560 - accuracy: 0.9820 - val_loss: 1.4586 - val_accuracy: 0.7700\n",
      "Epoch 33/100\n",
      "63/63 [==============================] - 6s 97ms/step - loss: 0.0541 - accuracy: 0.9840 - val_loss: 1.7271 - val_accuracy: 0.7680\n",
      "Epoch 34/100\n",
      "63/63 [==============================] - 6s 97ms/step - loss: 0.0406 - accuracy: 0.9840 - val_loss: 1.7315 - val_accuracy: 0.7760\n",
      "Epoch 35/100\n",
      "63/63 [==============================] - 6s 97ms/step - loss: 0.0584 - accuracy: 0.9815 - val_loss: 1.6200 - val_accuracy: 0.7780\n",
      "Epoch 36/100\n",
      "63/63 [==============================] - 6s 96ms/step - loss: 0.0626 - accuracy: 0.9820 - val_loss: 1.5693 - val_accuracy: 0.7690\n",
      "Epoch 37/100\n",
      "63/63 [==============================] - 6s 97ms/step - loss: 0.0630 - accuracy: 0.9825 - val_loss: 1.6967 - val_accuracy: 0.7760\n",
      "Epoch 38/100\n",
      "63/63 [==============================] - 6s 97ms/step - loss: 0.0440 - accuracy: 0.9860 - val_loss: 1.8968 - val_accuracy: 0.7340\n",
      "Epoch 39/100\n",
      "63/63 [==============================] - 6s 97ms/step - loss: 0.0501 - accuracy: 0.9860 - val_loss: 1.9268 - val_accuracy: 0.7550\n",
      "Epoch 40/100\n",
      "63/63 [==============================] - 6s 97ms/step - loss: 0.0280 - accuracy: 0.9880 - val_loss: 1.9448 - val_accuracy: 0.7650\n",
      "Epoch 41/100\n",
      "63/63 [==============================] - 6s 96ms/step - loss: 0.0738 - accuracy: 0.9845 - val_loss: 2.4166 - val_accuracy: 0.7740\n",
      "Epoch 42/100\n",
      "63/63 [==============================] - 6s 97ms/step - loss: 0.0600 - accuracy: 0.9865 - val_loss: 2.0291 - val_accuracy: 0.7350\n",
      "Epoch 43/100\n",
      "63/63 [==============================] - 6s 97ms/step - loss: 0.0421 - accuracy: 0.9880 - val_loss: 2.8943 - val_accuracy: 0.7480\n",
      "Epoch 44/100\n",
      "63/63 [==============================] - 6s 97ms/step - loss: 0.0622 - accuracy: 0.9865 - val_loss: 2.3942 - val_accuracy: 0.7720\n",
      "Epoch 45/100\n",
      "63/63 [==============================] - 6s 97ms/step - loss: 0.0379 - accuracy: 0.9865 - val_loss: 3.0411 - val_accuracy: 0.7510\n",
      "Epoch 46/100\n",
      "63/63 [==============================] - 6s 97ms/step - loss: 0.0765 - accuracy: 0.9830 - val_loss: 2.4879 - val_accuracy: 0.7590\n",
      "Epoch 47/100\n",
      "63/63 [==============================] - 6s 97ms/step - loss: 0.0638 - accuracy: 0.9850 - val_loss: 2.5442 - val_accuracy: 0.7110\n",
      "Epoch 48/100\n",
      "63/63 [==============================] - 6s 97ms/step - loss: 0.0598 - accuracy: 0.9835 - val_loss: 2.3005 - val_accuracy: 0.7490\n",
      "Epoch 49/100\n",
      "63/63 [==============================] - 6s 97ms/step - loss: 0.0580 - accuracy: 0.9860 - val_loss: 2.9034 - val_accuracy: 0.7620\n",
      "Epoch 50/100\n",
      "63/63 [==============================] - 6s 97ms/step - loss: 0.0399 - accuracy: 0.9875 - val_loss: 2.5268 - val_accuracy: 0.7740\n",
      "Epoch 51/100\n",
      "63/63 [==============================] - 6s 97ms/step - loss: 0.0611 - accuracy: 0.9865 - val_loss: 3.2710 - val_accuracy: 0.7490\n",
      "Epoch 52/100\n",
      "63/63 [==============================] - 6s 97ms/step - loss: 0.0801 - accuracy: 0.9855 - val_loss: 2.2348 - val_accuracy: 0.7690\n",
      "Epoch 53/100\n",
      "63/63 [==============================] - 6s 96ms/step - loss: 0.0372 - accuracy: 0.9870 - val_loss: 2.4886 - val_accuracy: 0.7660\n",
      "Epoch 54/100\n",
      "63/63 [==============================] - 6s 97ms/step - loss: 0.0689 - accuracy: 0.9880 - val_loss: 3.4699 - val_accuracy: 0.7530\n",
      "Epoch 55/100\n",
      "63/63 [==============================] - 6s 98ms/step - loss: 0.0723 - accuracy: 0.9880 - val_loss: 2.5671 - val_accuracy: 0.7560\n",
      "Epoch 56/100\n",
      "63/63 [==============================] - 6s 97ms/step - loss: 0.0512 - accuracy: 0.9910 - val_loss: 2.6281 - val_accuracy: 0.7570\n",
      "Epoch 57/100\n",
      "63/63 [==============================] - 6s 97ms/step - loss: 0.0907 - accuracy: 0.9845 - val_loss: 2.1930 - val_accuracy: 0.7620\n",
      "Epoch 58/100\n",
      "63/63 [==============================] - 6s 97ms/step - loss: 0.0341 - accuracy: 0.9930 - val_loss: 2.3527 - val_accuracy: 0.7480\n",
      "Epoch 59/100\n",
      "63/63 [==============================] - 6s 97ms/step - loss: 0.0616 - accuracy: 0.9825 - val_loss: 2.8232 - val_accuracy: 0.7220\n",
      "Epoch 60/100\n",
      "63/63 [==============================] - 6s 96ms/step - loss: 0.0554 - accuracy: 0.9865 - val_loss: 2.6251 - val_accuracy: 0.7800\n",
      "Epoch 61/100\n",
      "63/63 [==============================] - 6s 96ms/step - loss: 0.0488 - accuracy: 0.9850 - val_loss: 2.5191 - val_accuracy: 0.7680\n",
      "Epoch 62/100\n",
      "63/63 [==============================] - 6s 97ms/step - loss: 0.0473 - accuracy: 0.9875 - val_loss: 2.8561 - val_accuracy: 0.7730\n",
      "Epoch 63/100\n",
      "63/63 [==============================] - 6s 97ms/step - loss: 0.0779 - accuracy: 0.9845 - val_loss: 3.1778 - val_accuracy: 0.7620\n",
      "Epoch 64/100\n",
      "63/63 [==============================] - 6s 96ms/step - loss: 0.0653 - accuracy: 0.9865 - val_loss: 2.7244 - val_accuracy: 0.7690\n",
      "Epoch 65/100\n",
      "63/63 [==============================] - 6s 97ms/step - loss: 0.0452 - accuracy: 0.9895 - val_loss: 3.6763 - val_accuracy: 0.7380\n",
      "Epoch 66/100\n",
      "63/63 [==============================] - 6s 96ms/step - loss: 0.0683 - accuracy: 0.9890 - val_loss: 3.2943 - val_accuracy: 0.7740\n",
      "Epoch 67/100\n",
      "63/63 [==============================] - 6s 96ms/step - loss: 0.0622 - accuracy: 0.9880 - val_loss: 2.8973 - val_accuracy: 0.7680\n",
      "Epoch 68/100\n",
      "63/63 [==============================] - 6s 97ms/step - loss: 0.0424 - accuracy: 0.9925 - val_loss: 3.3862 - val_accuracy: 0.7550\n",
      "Epoch 69/100\n",
      "63/63 [==============================] - 6s 97ms/step - loss: 0.0294 - accuracy: 0.9930 - val_loss: 3.6575 - val_accuracy: 0.7640\n",
      "Epoch 70/100\n",
      "63/63 [==============================] - 6s 97ms/step - loss: 0.0328 - accuracy: 0.9935 - val_loss: 3.5341 - val_accuracy: 0.7780\n",
      "Epoch 71/100\n",
      "63/63 [==============================] - 6s 97ms/step - loss: 0.0969 - accuracy: 0.9850 - val_loss: 3.0458 - val_accuracy: 0.7750\n",
      "Epoch 72/100\n",
      "63/63 [==============================] - 6s 97ms/step - loss: 0.0730 - accuracy: 0.9875 - val_loss: 2.9151 - val_accuracy: 0.7630\n",
      "Epoch 73/100\n",
      "63/63 [==============================] - 6s 97ms/step - loss: 0.0362 - accuracy: 0.9910 - val_loss: 3.3711 - val_accuracy: 0.7650\n",
      "Epoch 74/100\n",
      "63/63 [==============================] - 6s 97ms/step - loss: 0.0520 - accuracy: 0.9890 - val_loss: 3.6364 - val_accuracy: 0.7560\n",
      "Epoch 75/100\n",
      "63/63 [==============================] - 6s 96ms/step - loss: 0.0517 - accuracy: 0.9875 - val_loss: 3.6162 - val_accuracy: 0.7740\n",
      "Epoch 76/100\n",
      "63/63 [==============================] - 6s 97ms/step - loss: 0.0537 - accuracy: 0.9915 - val_loss: 3.6633 - val_accuracy: 0.7490\n",
      "Epoch 77/100\n",
      "63/63 [==============================] - 6s 96ms/step - loss: 0.0338 - accuracy: 0.9935 - val_loss: 4.1205 - val_accuracy: 0.7620\n",
      "Epoch 78/100\n",
      "63/63 [==============================] - 6s 96ms/step - loss: 0.0574 - accuracy: 0.9895 - val_loss: 3.8131 - val_accuracy: 0.7600\n",
      "Epoch 79/100\n",
      "63/63 [==============================] - 6s 96ms/step - loss: 0.0409 - accuracy: 0.9895 - val_loss: 5.1325 - val_accuracy: 0.7550\n",
      "Epoch 80/100\n",
      "63/63 [==============================] - 6s 97ms/step - loss: 0.0859 - accuracy: 0.9880 - val_loss: 4.8922 - val_accuracy: 0.7660\n",
      "Epoch 81/100\n",
      "63/63 [==============================] - 6s 97ms/step - loss: 0.0532 - accuracy: 0.9895 - val_loss: 4.1128 - val_accuracy: 0.7640\n",
      "Epoch 82/100\n",
      "63/63 [==============================] - 6s 96ms/step - loss: 0.0628 - accuracy: 0.9900 - val_loss: 3.8449 - val_accuracy: 0.7630\n",
      "Epoch 83/100\n",
      "63/63 [==============================] - 6s 97ms/step - loss: 0.1155 - accuracy: 0.9835 - val_loss: 5.1414 - val_accuracy: 0.7590\n",
      "Epoch 84/100\n",
      "63/63 [==============================] - 6s 96ms/step - loss: 0.0654 - accuracy: 0.9900 - val_loss: 4.9565 - val_accuracy: 0.7500\n",
      "Epoch 85/100\n",
      "63/63 [==============================] - 6s 96ms/step - loss: 0.0500 - accuracy: 0.9910 - val_loss: 4.8820 - val_accuracy: 0.7200\n",
      "Epoch 86/100\n",
      "63/63 [==============================] - 6s 96ms/step - loss: 0.0657 - accuracy: 0.9905 - val_loss: 4.3358 - val_accuracy: 0.7720\n",
      "Epoch 87/100\n",
      "63/63 [==============================] - 6s 97ms/step - loss: 0.0535 - accuracy: 0.9930 - val_loss: 5.4701 - val_accuracy: 0.7630\n",
      "Epoch 88/100\n",
      "63/63 [==============================] - 6s 97ms/step - loss: 0.0614 - accuracy: 0.9895 - val_loss: 4.9116 - val_accuracy: 0.7440\n",
      "Epoch 89/100\n",
      "63/63 [==============================] - 6s 96ms/step - loss: 0.0582 - accuracy: 0.9895 - val_loss: 4.7341 - val_accuracy: 0.7570\n",
      "Epoch 90/100\n",
      "63/63 [==============================] - 6s 98ms/step - loss: 0.0677 - accuracy: 0.9910 - val_loss: 5.7834 - val_accuracy: 0.7370\n",
      "Epoch 91/100\n",
      "63/63 [==============================] - 6s 97ms/step - loss: 0.0916 - accuracy: 0.9885 - val_loss: 4.5715 - val_accuracy: 0.7630\n",
      "Epoch 92/100\n",
      "63/63 [==============================] - 6s 96ms/step - loss: 0.0782 - accuracy: 0.9905 - val_loss: 6.0125 - val_accuracy: 0.7550\n",
      "Epoch 93/100\n",
      "63/63 [==============================] - 6s 96ms/step - loss: 0.0988 - accuracy: 0.9875 - val_loss: 5.0863 - val_accuracy: 0.7700\n",
      "Epoch 94/100\n",
      "63/63 [==============================] - 6s 97ms/step - loss: 0.0806 - accuracy: 0.9900 - val_loss: 5.5533 - val_accuracy: 0.7440\n",
      "Epoch 95/100\n",
      "63/63 [==============================] - 6s 96ms/step - loss: 0.0720 - accuracy: 0.9900 - val_loss: 5.8578 - val_accuracy: 0.7240\n",
      "Epoch 96/100\n",
      "63/63 [==============================] - 6s 98ms/step - loss: 0.0806 - accuracy: 0.9890 - val_loss: 6.8799 - val_accuracy: 0.7500\n",
      "Epoch 97/100\n",
      "63/63 [==============================] - 6s 96ms/step - loss: 0.0792 - accuracy: 0.9905 - val_loss: 5.2093 - val_accuracy: 0.7480\n",
      "Epoch 98/100\n",
      "63/63 [==============================] - 6s 97ms/step - loss: 0.0681 - accuracy: 0.9895 - val_loss: 5.7219 - val_accuracy: 0.7320\n",
      "Epoch 99/100\n",
      "63/63 [==============================] - 6s 97ms/step - loss: 0.0614 - accuracy: 0.9920 - val_loss: 5.8321 - val_accuracy: 0.7460\n",
      "Epoch 100/100\n",
      "63/63 [==============================] - 6s 96ms/step - loss: 0.0796 - accuracy: 0.9870 - val_loss: 6.3470 - val_accuracy: 0.7400\n"
     ]
    }
   ],
   "source": [
    "history = model.fit(\n",
    "train_dataset,\n",
    "epochs=100,\n",
    "validation_data=validation_dataset,\n",
    "callbacks=callbacks)"
   ]
  },
  {
   "cell_type": "code",
   "execution_count": 12,
   "metadata": {},
   "outputs": [
    {
     "data": {
      "image/png": "[encoded data removed]",
      "text/plain": [
       "<Figure size 432x288 with 1 Axes>"
      ]
     },
     "metadata": {
      "needs_background": "light"
     },
     "output_type": "display_data"
    },
    {
     "data": {
      "image/png": "[encoded data removed]",
      "text/plain": [
       "<Figure size 432x288 with 1 Axes>"
      ]
     },
     "metadata": {
      "needs_background": "light"
     },
     "output_type": "display_data"
    }
   ],
   "source": [
    "import matplotlib.pyplot as plt\n",
    "accuracy = history.history[\"accuracy\"]\n",
    "val_accuracy = history.history[\"val_accuracy\"]\n",
    "loss = history.history[\"loss\"]\n",
    "val_loss = history.history[\"val_loss\"]\n",
    "epochs = range(1, len(accuracy) + 1)\n",
    "plt.plot(epochs, accuracy, \"bo\", label=\"Training accuracy\")\n",
    "plt.plot(epochs, val_accuracy, \"b\", label=\"Validation accuracy\")\n",
    "plt.title(\"Training and validation accuracy\")\n",
    "plt.legend()\n",
    "plt.figure()\n",
    "plt.plot(epochs, loss, \"bo\", label=\"Training loss\")\n",
    "plt.plot(epochs, val_loss, \"b\", label=\"Validation loss\")\n",
    "plt.title(\"Training and validation loss\")\n",
    "plt.legend()\n",
    "plt.show()"
   ]
  },
  {
   "cell_type": "code",
   "execution_count": 13,
   "metadata": {},
   "outputs": [
    {
     "name": "stdout",
     "output_type": "stream",
     "text": [
      "63/63 [==============================] - 2s 34ms/step - loss: 0.5565 - accuracy: 0.7455\n",
      "Test accuracy: 0.746\n"
     ]
    }
   ],
   "source": [
    "test_model = keras.models.load_model(\"convnet_from_scratch.keras\")\n",
    "test_loss, test_acc = test_model.evaluate(test_dataset)\n",
    "print(f\"Test accuracy: {test_acc:.3f}\")"
   ]
  },
  {
   "cell_type": "markdown",
   "metadata": {},
   "source": [
    "conv_base\n"
   ]
  },
  {
   "cell_type": "code",
   "execution_count": 7,
   "metadata": {},
   "outputs": [],
   "source": [
    "conv_base = keras.applications.vgg16.VGG16(\n",
    "weights=\"imagenet\",\n",
    "include_top=False)\n",
    "conv_base.trainable = False\n",
    "#for layer in conv_base.layers[:-4]:\n",
    "    #layer.trainable = False\n"
   ]
  },
  {
   "cell_type": "code",
   "execution_count": 16,
   "metadata": {},
   "outputs": [
    {
     "name": "stdout",
     "output_type": "stream",
     "text": [
      "This is the number of trainable weights before freezing the conv base: 26\n"
     ]
    }
   ],
   "source": [
    "#conv_base.trainable = True\n",
    "print(\"This is the number of trainable weights \"\n",
    "\"before freezing the conv base:\", len(conv_base.trainable_weights))"
   ]
  },
  {
   "cell_type": "code",
   "execution_count": 17,
   "metadata": {},
   "outputs": [
    {
     "name": "stdout",
     "output_type": "stream",
     "text": [
      "This is the number of trainable weights after freezing the conv base: 0\n"
     ]
    }
   ],
   "source": [
    "conv_base.trainable = False\n",
    "print(\"This is the number of trainable weights \"\n",
    "\"after freezing the conv base:\", len(conv_base.trainable_weights))"
   ]
  },
  {
   "cell_type": "code",
   "execution_count": 7,
   "metadata": {},
   "outputs": [
    {
     "name": "stdout",
     "output_type": "stream",
     "text": [
      "Model: \"vgg16\"\n",
      "_________________________________________________________________\n",
      " Layer (type)                Output Shape              Param #   \n",
      "=================================================================\n",
      " input_1 (InputLayer)        [(None, None, None, 3)]   0         \n",
      "                                                                 \n",
      " block1_conv1 (Conv2D)       (None, None, None, 64)    1792      \n",
      "                                                                 \n",
      " block1_conv2 (Conv2D)       (None, None, None, 64)    36928     \n",
      "                                                                 \n",
      " block1_pool (MaxPooling2D)  (None, None, None, 64)    0         \n",
      "                                                                 \n",
      " block2_conv1 (Conv2D)       (None, None, None, 128)   73856     \n",
      "                                                                 \n",
      " block2_conv2 (Conv2D)       (None, None, None, 128)   147584    \n",
      "                                                                 \n",
      " block2_pool (MaxPooling2D)  (None, None, None, 128)   0         \n",
      "                                                                 \n",
      " block3_conv1 (Conv2D)       (None, None, None, 256)   295168    \n",
      "                                                                 \n",
      " block3_conv2 (Conv2D)       (None, None, None, 256)   590080    \n",
      "                                                                 \n",
      " block3_conv3 (Conv2D)       (None, None, None, 256)   590080    \n",
      "                                                                 \n",
      " block3_pool (MaxPooling2D)  (None, None, None, 256)   0         \n",
      "                                                                 \n",
      " block4_conv1 (Conv2D)       (None, None, None, 512)   1180160   \n",
      "                                                                 \n",
      " block4_conv2 (Conv2D)       (None, None, None, 512)   2359808   \n",
      "                                                                 \n",
      " block4_conv3 (Conv2D)       (None, None, None, 512)   2359808   \n",
      "                                                                 \n",
      " block4_pool (MaxPooling2D)  (None, None, None, 512)   0         \n",
      "                                                                 \n",
      " block5_conv1 (Conv2D)       (None, None, None, 512)   2359808   \n",
      "                                                                 \n",
      " block5_conv2 (Conv2D)       (None, None, None, 512)   2359808   \n",
      "                                                                 \n",
      " block5_conv3 (Conv2D)       (None, None, None, 512)   2359808   \n",
      "                                                                 \n",
      " block5_pool (MaxPooling2D)  (None, None, None, 512)   0         \n",
      "                                                                 \n",
      "=================================================================\n",
      "Total params: 14,714,688\n",
      "Trainable params: 7,079,424\n",
      "Non-trainable params: 7,635,264\n",
      "_________________________________________________________________\n"
     ]
    }
   ],
   "source": [
    "conv_base.summary()"
   ]
  },
  {
   "cell_type": "code",
   "execution_count": 19,
   "metadata": {},
   "outputs": [],
   "source": [
    "data_augmentation = keras.Sequential(\n",
    "[\n",
    "layers.RandomFlip(\"horizontal\"),\n",
    "layers.RandomRotation(0.1),\n",
    "layers.RandomZoom(0.2),\n",
    "]\n",
    ")"
   ]
  },
  {
   "cell_type": "code",
   "execution_count": 20,
   "metadata": {},
   "outputs": [],
   "source": [
    "inputs = keras.Input(shape=(180, 180, 3))\n",
    "x = data_augmentation(inputs)\n",
    "x = keras.applications.vgg16.preprocess_input(x)\n",
    "x = conv_base(x)\n",
    "x = layers.Flatten()(x)\n",
    "x = layers.Dense(256)(x)\n",
    "x = layers.Dropout(0.5)(x)\n",
    "outputs = layers.Dense(1, activation=\"sigmoid\")(x)\n",
    "model = keras.Model(inputs, outputs)\n",
    "model.compile(loss=\"binary_crossentropy\",\n",
    "optimizer=\"rmsprop\",\n",
    "metrics=[\"accuracy\"])"
   ]
  },
  {
   "cell_type": "code",
   "execution_count": 10,
   "metadata": {},
   "outputs": [],
   "source": []
  },
  {
   "cell_type": "code",
   "execution_count": 11,
   "metadata": {},
   "outputs": [],
   "source": [
    "model.compile(loss=\"binary_crossentropy\",\n",
    "optimizer=keras.optimizers.RMSprop(learning_rate=1e-5),\n",
    "metrics=[\"accuracy\"])"
   ]
  },
  {
   "cell_type": "code",
   "execution_count": 21,
   "metadata": {},
   "outputs": [],
   "source": [
    "callbacks = [\n",
    "keras.callbacks.ModelCheckpoint(\n",
    "filepath=\"fine_tuning.keras\",\n",
    "save_best_only=True,\n",
    "monitor=\"val_loss\")]"
   ]
  },
  {
   "cell_type": "code",
   "execution_count": 22,
   "metadata": {},
   "outputs": [
    {
     "name": "stdout",
     "output_type": "stream",
     "text": [
      "Epoch 1/30\n",
      "63/63 [==============================] - 27s 380ms/step - loss: 19.2019 - accuracy: 0.8980 - val_loss: 3.7692 - val_accuracy: 0.9670\n",
      "Epoch 2/30\n",
      "63/63 [==============================] - 21s 336ms/step - loss: 6.8581 - accuracy: 0.9485 - val_loss: 6.0301 - val_accuracy: 0.9680\n",
      "Epoch 3/30\n",
      "63/63 [==============================] - 21s 335ms/step - loss: 6.8326 - accuracy: 0.9525 - val_loss: 3.7879 - val_accuracy: 0.9720\n",
      "Epoch 4/30\n",
      "63/63 [==============================] - 21s 337ms/step - loss: 5.6806 - accuracy: 0.9630 - val_loss: 3.7780 - val_accuracy: 0.9770\n",
      "Epoch 5/30\n",
      "63/63 [==============================] - 21s 338ms/step - loss: 3.9818 - accuracy: 0.9660 - val_loss: 4.0718 - val_accuracy: 0.9750\n",
      "Epoch 6/30\n",
      "63/63 [==============================] - 21s 338ms/step - loss: 3.3070 - accuracy: 0.9685 - val_loss: 4.3592 - val_accuracy: 0.9790\n",
      "Epoch 7/30\n",
      "63/63 [==============================] - 22s 348ms/step - loss: 3.6622 - accuracy: 0.9710 - val_loss: 3.3990 - val_accuracy: 0.9770\n",
      "Epoch 8/30\n",
      "63/63 [==============================] - 21s 338ms/step - loss: 2.7756 - accuracy: 0.9715 - val_loss: 4.6338 - val_accuracy: 0.9810\n",
      "Epoch 9/30\n",
      "63/63 [==============================] - 21s 340ms/step - loss: 3.0675 - accuracy: 0.9745 - val_loss: 6.8986 - val_accuracy: 0.9720\n",
      "Epoch 10/30\n",
      "63/63 [==============================] - 21s 342ms/step - loss: 2.9204 - accuracy: 0.9755 - val_loss: 3.7995 - val_accuracy: 0.9820\n",
      "Epoch 11/30\n",
      "63/63 [==============================] - 21s 341ms/step - loss: 2.7426 - accuracy: 0.9765 - val_loss: 4.1315 - val_accuracy: 0.9810\n",
      "Epoch 12/30\n",
      "63/63 [==============================] - 24s 380ms/step - loss: 2.9322 - accuracy: 0.9745 - val_loss: 2.4431 - val_accuracy: 0.9790\n",
      "Epoch 13/30\n",
      "63/63 [==============================] - 21s 341ms/step - loss: 2.1897 - accuracy: 0.9825 - val_loss: 3.7578 - val_accuracy: 0.9790\n",
      "Epoch 14/30\n",
      "63/63 [==============================] - 22s 342ms/step - loss: 2.4721 - accuracy: 0.9765 - val_loss: 3.4077 - val_accuracy: 0.9790\n",
      "Epoch 15/30\n",
      "63/63 [==============================] - 22s 343ms/step - loss: 2.4682 - accuracy: 0.9780 - val_loss: 3.5699 - val_accuracy: 0.9790\n",
      "Epoch 16/30\n",
      "63/63 [==============================] - 22s 343ms/step - loss: 2.7353 - accuracy: 0.9750 - val_loss: 3.9666 - val_accuracy: 0.9770\n",
      "Epoch 17/30\n",
      "63/63 [==============================] - 22s 343ms/step - loss: 1.2281 - accuracy: 0.9855 - val_loss: 3.6194 - val_accuracy: 0.9750\n",
      "Epoch 18/30\n",
      "63/63 [==============================] - 22s 343ms/step - loss: 1.0864 - accuracy: 0.9840 - val_loss: 3.0286 - val_accuracy: 0.9800\n",
      "Epoch 19/30\n",
      "63/63 [==============================] - 22s 344ms/step - loss: 1.7106 - accuracy: 0.9850 - val_loss: 3.4462 - val_accuracy: 0.9750\n",
      "Epoch 20/30\n",
      "63/63 [==============================] - 22s 344ms/step - loss: 2.0361 - accuracy: 0.9750 - val_loss: 3.0343 - val_accuracy: 0.9800\n",
      "Epoch 21/30\n",
      "63/63 [==============================] - 23s 372ms/step - loss: 1.7599 - accuracy: 0.9820 - val_loss: 2.4101 - val_accuracy: 0.9820\n",
      "Epoch 22/30\n",
      "63/63 [==============================] - 22s 343ms/step - loss: 1.3588 - accuracy: 0.9815 - val_loss: 3.1481 - val_accuracy: 0.9790\n",
      "Epoch 23/30\n",
      "63/63 [==============================] - 22s 343ms/step - loss: 0.7742 - accuracy: 0.9885 - val_loss: 2.6120 - val_accuracy: 0.9790\n",
      "Epoch 24/30\n",
      "63/63 [==============================] - 22s 344ms/step - loss: 1.3133 - accuracy: 0.9835 - val_loss: 3.3474 - val_accuracy: 0.9770\n",
      "Epoch 25/30\n",
      "63/63 [==============================] - 22s 345ms/step - loss: 0.9155 - accuracy: 0.9860 - val_loss: 2.6025 - val_accuracy: 0.9830\n",
      "Epoch 26/30\n",
      "63/63 [==============================] - 22s 344ms/step - loss: 0.9950 - accuracy: 0.9840 - val_loss: 3.2290 - val_accuracy: 0.9750\n",
      "Epoch 27/30\n",
      "63/63 [==============================] - 24s 383ms/step - loss: 1.0030 - accuracy: 0.9845 - val_loss: 1.8108 - val_accuracy: 0.9840\n",
      "Epoch 28/30\n",
      "63/63 [==============================] - 22s 344ms/step - loss: 0.7681 - accuracy: 0.9870 - val_loss: 2.3228 - val_accuracy: 0.9820\n",
      "Epoch 29/30\n",
      "63/63 [==============================] - 22s 344ms/step - loss: 0.8772 - accuracy: 0.9850 - val_loss: 1.9778 - val_accuracy: 0.9830\n",
      "Epoch 30/30\n",
      "63/63 [==============================] - 25s 393ms/step - loss: 0.9975 - accuracy: 0.9855 - val_loss: 1.7499 - val_accuracy: 0.9800\n"
     ]
    }
   ],
   "source": [
    "history = model.fit(\n",
    "train_dataset,\n",
    "epochs=30,\n",
    "validation_data=validation_dataset,\n",
    "callbacks=callbacks)"
   ]
  },
  {
   "cell_type": "code",
   "execution_count": 23,
   "metadata": {},
   "outputs": [
    {
     "name": "stdout",
     "output_type": "stream",
     "text": [
      "63/63 [==============================] - 14s 216ms/step - loss: 2.3238 - accuracy: 0.9740\n",
      "Test accuracy: 0.974\n"
     ]
    }
   ],
   "source": [
    "model = keras.models.load_model(\"fine_tuning.keras\")\n",
    "test_loss, test_acc = model.evaluate(test_dataset)\n",
    "print(f\"Test accuracy: {test_acc:.3f}\")"
   ]
  },
  {
   "cell_type": "markdown",
   "metadata": {},
   "source": [
    "PART 2: Convolutional Neural Network\n",
    "\n"
   ]
  },
  {
   "cell_type": "code",
   "execution_count": 13,
   "metadata": {},
   "outputs": [],
   "source": [
    "conv_base = keras.applications.vgg16.VGG16(\n",
    "weights=\"imagenet\",\n",
    "include_top=False)\n",
    "conv_base.trainable = True\n",
    "for layer in conv_base.layers[:-4]:\n",
    " layer.trainable = False"
   ]
  },
  {
   "cell_type": "code",
   "execution_count": 14,
   "metadata": {},
   "outputs": [],
   "source": [
    "data_augmentation = keras.Sequential(\n",
    "[\n",
    "layers.RandomFlip(\"horizontal\"),\n",
    "layers.RandomRotation(0.1),\n",
    "layers.RandomZoom(0.2),\n",
    "]\n",
    ")"
   ]
  },
  {
   "cell_type": "code",
   "execution_count": 15,
   "metadata": {},
   "outputs": [],
   "source": [
    "inputs = keras.Input(shape=(180, 180, 3))\n",
    "x = data_augmentation(inputs)\n",
    "x = keras.applications.vgg16.preprocess_input(x)\n",
    "x = conv_base(x)\n",
    "x = layers.Flatten()(x)\n",
    "x = layers.Dense(256)(x)\n",
    "x = layers.Dropout(0.5)(x)\n",
    "outputs = layers.Dense(1, activation=\"sigmoid\")(x)\n",
    "model = keras.Model(inputs, outputs)\n",
    "model.compile(loss=\"binary_crossentropy\",\n",
    "optimizer=\"rmsprop\",\n",
    "metrics=[\"accuracy\"])"
   ]
  },
  {
   "cell_type": "code",
   "execution_count": 16,
   "metadata": {},
   "outputs": [],
   "source": [
    "model.compile(loss=\"binary_crossentropy\",\n",
    "optimizer=keras.optimizers.RMSprop(learning_rate=1e-5),\n",
    "metrics=[\"accuracy\"])"
   ]
  },
  {
   "cell_type": "code",
   "execution_count": 17,
   "metadata": {},
   "outputs": [],
   "source": [
    "callbacks = [\n",
    "keras.callbacks.ModelCheckpoint(\n",
    "filepath=\"fine_tuning.keras\",\n",
    "save_best_only=True,\n",
    "monitor=\"val_loss\")\n",
    "]"
   ]
  },
  {
   "cell_type": "code",
   "execution_count": 18,
   "metadata": {},
   "outputs": [
    {
     "name": "stdout",
     "output_type": "stream",
     "text": [
      "Epoch 1/30\n",
      "63/63 [==============================] - 31s 423ms/step - loss: 4.0332 - accuracy: 0.7325 - val_loss: 0.7644 - val_accuracy: 0.9210\n",
      "Epoch 2/30\n",
      "63/63 [==============================] - 24s 383ms/step - loss: 1.2205 - accuracy: 0.8620 - val_loss: 0.4177 - val_accuracy: 0.9540\n",
      "Epoch 3/30\n",
      "63/63 [==============================] - 24s 390ms/step - loss: 0.7216 - accuracy: 0.8985 - val_loss: 0.2809 - val_accuracy: 0.9620\n",
      "Epoch 4/30\n",
      "63/63 [==============================] - 24s 378ms/step - loss: 0.4825 - accuracy: 0.9165 - val_loss: 0.2246 - val_accuracy: 0.9630\n",
      "Epoch 5/30\n",
      "63/63 [==============================] - 24s 376ms/step - loss: 0.3174 - accuracy: 0.9345 - val_loss: 0.1926 - val_accuracy: 0.9700\n",
      "Epoch 6/30\n",
      "63/63 [==============================] - 23s 363ms/step - loss: 0.2913 - accuracy: 0.9420 - val_loss: 0.1907 - val_accuracy: 0.9680\n",
      "Epoch 7/30\n",
      "63/63 [==============================] - 23s 366ms/step - loss: 0.2229 - accuracy: 0.9495 - val_loss: 0.1858 - val_accuracy: 0.9720\n",
      "Epoch 8/30\n",
      "63/63 [==============================] - 23s 368ms/step - loss: 0.1933 - accuracy: 0.9535 - val_loss: 0.1592 - val_accuracy: 0.9710\n",
      "Epoch 9/30\n",
      "63/63 [==============================] - 22s 355ms/step - loss: 0.1585 - accuracy: 0.9535 - val_loss: 0.1666 - val_accuracy: 0.9710\n",
      "Epoch 10/30\n",
      "63/63 [==============================] - 22s 357ms/step - loss: 0.1260 - accuracy: 0.9650 - val_loss: 0.1773 - val_accuracy: 0.9750\n",
      "Epoch 11/30\n",
      "63/63 [==============================] - 22s 356ms/step - loss: 0.1041 - accuracy: 0.9710 - val_loss: 0.1807 - val_accuracy: 0.9750\n",
      "Epoch 12/30\n",
      "63/63 [==============================] - 23s 358ms/step - loss: 0.0772 - accuracy: 0.9760 - val_loss: 0.1756 - val_accuracy: 0.9790\n",
      "Epoch 13/30\n",
      "63/63 [==============================] - 22s 356ms/step - loss: 0.0950 - accuracy: 0.9740 - val_loss: 0.2236 - val_accuracy: 0.9730\n",
      "Epoch 14/30\n",
      "63/63 [==============================] - 22s 356ms/step - loss: 0.1017 - accuracy: 0.9755 - val_loss: 0.1627 - val_accuracy: 0.9760\n",
      "Epoch 15/30\n",
      "63/63 [==============================] - 22s 356ms/step - loss: 0.0844 - accuracy: 0.9750 - val_loss: 0.1799 - val_accuracy: 0.9770\n",
      "Epoch 16/30\n",
      "63/63 [==============================] - 22s 357ms/step - loss: 0.0685 - accuracy: 0.9795 - val_loss: 0.2004 - val_accuracy: 0.9760\n",
      "Epoch 17/30\n",
      "63/63 [==============================] - 22s 357ms/step - loss: 0.0592 - accuracy: 0.9845 - val_loss: 0.2365 - val_accuracy: 0.9730\n",
      "Epoch 18/30\n",
      "63/63 [==============================] - 22s 356ms/step - loss: 0.0505 - accuracy: 0.9820 - val_loss: 0.1937 - val_accuracy: 0.9740\n",
      "Epoch 19/30\n",
      "63/63 [==============================] - 22s 357ms/step - loss: 0.0469 - accuracy: 0.9855 - val_loss: 0.2077 - val_accuracy: 0.9770\n",
      "Epoch 20/30\n",
      "63/63 [==============================] - 22s 357ms/step - loss: 0.0426 - accuracy: 0.9880 - val_loss: 0.1813 - val_accuracy: 0.9790\n",
      "Epoch 21/30\n",
      "63/63 [==============================] - 22s 357ms/step - loss: 0.0355 - accuracy: 0.9885 - val_loss: 0.1911 - val_accuracy: 0.9790\n",
      "Epoch 22/30\n",
      "63/63 [==============================] - 22s 356ms/step - loss: 0.0416 - accuracy: 0.9900 - val_loss: 0.2100 - val_accuracy: 0.9770\n",
      "Epoch 23/30\n",
      "63/63 [==============================] - 23s 357ms/step - loss: 0.0395 - accuracy: 0.9895 - val_loss: 0.2053 - val_accuracy: 0.9760\n",
      "Epoch 24/30\n",
      "63/63 [==============================] - 22s 356ms/step - loss: 0.0403 - accuracy: 0.9880 - val_loss: 0.2042 - val_accuracy: 0.9780\n",
      "Epoch 25/30\n",
      "63/63 [==============================] - 22s 357ms/step - loss: 0.0323 - accuracy: 0.9915 - val_loss: 0.2323 - val_accuracy: 0.9740\n",
      "Epoch 26/30\n",
      "63/63 [==============================] - 22s 356ms/step - loss: 0.0407 - accuracy: 0.9900 - val_loss: 0.2188 - val_accuracy: 0.9760\n",
      "Epoch 27/30\n",
      "63/63 [==============================] - 22s 357ms/step - loss: 0.0175 - accuracy: 0.9945 - val_loss: 0.2143 - val_accuracy: 0.9800\n",
      "Epoch 28/30\n",
      "63/63 [==============================] - 22s 357ms/step - loss: 0.0345 - accuracy: 0.9925 - val_loss: 0.2072 - val_accuracy: 0.9780\n",
      "Epoch 29/30\n",
      "63/63 [==============================] - 23s 359ms/step - loss: 0.0227 - accuracy: 0.9925 - val_loss: 0.2148 - val_accuracy: 0.9790\n",
      "Epoch 30/30\n",
      "63/63 [==============================] - 23s 360ms/step - loss: 0.0130 - accuracy: 0.9950 - val_loss: 0.2648 - val_accuracy: 0.9790\n"
     ]
    }
   ],
   "source": [
    "history = model.fit(\n",
    "train_dataset,\n",
    "epochs=30,\n",
    "validation_data=validation_dataset,\n",
    "callbacks=callbacks)"
   ]
  },
  {
   "cell_type": "code",
   "execution_count": 19,
   "metadata": {},
   "outputs": [
    {
     "name": "stdout",
     "output_type": "stream",
     "text": [
      "63/63 [==============================] - 13s 207ms/step - loss: 0.1390 - accuracy: 0.9680\n",
      "Test accuracy: 0.968\n"
     ]
    }
   ],
   "source": [
    "model = keras.models.load_model(\"fine_tuning.keras\")\n",
    "test_loss, test_acc = model.evaluate(test_dataset)\n",
    "print(f\"Test accuracy: {test_acc:.3f}\")"
   ]
  },
  {
   "cell_type": "code",
   "execution_count": 20,
   "metadata": {},
   "outputs": [],
   "source": [
    "import numpy as np\n",
    "batch_size=32"
   ]
  },
  {
   "cell_type": "code",
   "execution_count": 24,
   "metadata": {},
   "outputs": [],
   "source": [
    "predict = model.predict(test_dataset)"
   ]
  },
  {
   "cell_type": "code",
   "execution_count": 25,
   "metadata": {},
   "outputs": [
    {
     "data": {
      "text/plain": [
       "array([[2.0551446e-05],\n",
       "       [9.0227542e-14],\n",
       "       [1.0000000e+00],\n",
       "       ...,\n",
       "       [1.0000000e+00],\n",
       "       [5.3633266e-15],\n",
       "       [1.0000000e+00]], dtype=float32)"
      ]
     },
     "execution_count": 25,
     "metadata": {},
     "output_type": "execute_result"
    }
   ],
   "source": [
    "predict"
   ]
  },
  {
   "cell_type": "code",
   "execution_count": 26,
   "metadata": {},
   "outputs": [
    {
     "data": {
      "text/plain": [
       "array([0, 0, 0, 0, 0, 0, 0, 0, 0, 0, 0, 0, 0, 0, 0, 0, 0, 0, 0, 0, 0, 0,\n",
       "       0, 0, 0, 0, 0, 0, 0, 0, 0, 0, 0, 0, 0, 0, 0, 0, 0, 0, 0, 0, 0, 0,\n",
       "       0, 0, 0, 0, 0, 0, 0, 0, 0, 0, 0, 0, 0, 0, 0, 0, 0, 0, 0, 0, 0, 0,\n",
       "       0, 0, 0, 0, 0, 0, 0, 0, 0, 0, 0, 0, 0, 0, 0, 0, 0, 0, 0, 0, 0, 0,\n",
       "       0, 0, 0, 0, 0, 0, 0, 0, 0, 0, 0, 0])"
      ]
     },
     "execution_count": 26,
     "metadata": {},
     "output_type": "execute_result"
    }
   ],
   "source": [
    "np.argmax(predict,axis=1)[0:100]"
   ]
  },
  {
   "cell_type": "code",
   "execution_count": 43,
   "metadata": {},
   "outputs": [],
   "source": [
    "def plot_predection(model_name):\n",
    "    plt.figure(figsize=(20,15))\n",
    "    plt.suptitle(\"Predection  Images\", fontsize=20)\n",
    "    images = [] \n",
    "    path ='cats_and_dogs_small/test'\n",
    "    count = 0  #val_images,val_labels\n",
    "    for i,files in enumerate(os.listdir(path)) :\n",
    "        img = plt.imread(path)\n",
    "        img = cv2.resize(img,(128,128))\n",
    "        plt.imshow(img,cmap=plt.cm.binary)\n",
    "        img = np.expand_dims(img, axis=0)\n",
    "        feature = model_name.predict(img)\n",
    "        predection  = np.argmax(feature, axis=1)\n",
    "        plt.subplot(5,7,i+1)\n",
    "        plt.xticks([])\n",
    "        plt.yticks([])\n",
    "        plt.grid(False)\n",
    "        plt.xlabel(\"Predicted\"+get_Label(int(predection)))\n",
    "        count += 1\n",
    "        if count == 34 :\n",
    "            break                \n"
   ]
  }
 ],
 "metadata": {
  "interpreter": {
   "hash": "9169f1d4e16acc976bbb73e323b0dbdf23f1c55e833fb2befffc4fb50ac2de2f"
  },
  "kernelspec": {
   "display_name": "Python 3.8.1 ('azureml_py38_PT_TF')",
   "language": "python",
   "name": "python3"
  },
  "language_info": {
   "codemirror_mode": {
    "name": "ipython",
    "version": 3
   },
   "file_extension": ".py",
   "mimetype": "text/x-python",
   "name": "python",
   "nbconvert_exporter": "python",
   "pygments_lexer": "ipython3",
   "version": "3.8.1"
  },
  "orig_nbformat": 4
 },
 "nbformat": 4,
 "nbformat_minor": 2
}
